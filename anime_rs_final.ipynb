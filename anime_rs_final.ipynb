{
 "cells": [
  {
   "cell_type": "markdown",
   "metadata": {},
   "source": [
    "# The Anime Reccommendation Engine\n",
    "\n",
    "## Project Description:\n",
    "This project aims to build an **anime recommendation system** using **unsupervised learning**.\n",
    "The dataset consists of anime dialogues, and the goal is to recommend similar dialogues\n",
    "using Natural Language Processing (NLP) techniques.\n",
    "\n",
    "## GitHub Link: https://github.com/kmora2b/anime_rs_project\n",
    "\n",
    "## Why?\n",
    "Finding anime based on existing databases like MyAnimeList(MAL) and AniList often require a viewer to know specific genres, studios, and styles to even search for reccommendations but often this leads to a viewer to miss out on new and retro underrated shows or get misled. Sometimes being misled could lead to users watching something that can be uncomfortable or a lot more mature than they intended. With this reccommender, we will be able to know the direct contents of a show based on subtitles that contain dialogue of a show which will provide a better representation and allow a viewer to just get a reccommendation based on general keywords.\n",
    "\n",
    "\n",
    "### **Key Steps:**\n",
    "1. **Exploratory Data Analysis (EDA)**:\n",
    "   - Understanding dataset size, structure, and distributions.\n",
    "   - Generating statistical insights and visualizations.\n",
    "   - Identifying missing or redundant data.\n",
    "   - Investigating text length distributions, common words, and stopword frequency.\n",
    "   - Checking for imbalanced clusters and sparsity in TF-IDF features.\n",
    "   - **Describing dataset factors (features)**, their importance, and distributions.\n",
    "   - **Analyzing correlations between factors and determining dependencies.**\n",
    "   - **Checking if data transformations (e.g., log transformation, normalization) are required.**\n",
    "   - **Detecting and handling outliers or missing data in dialogues.**\n",
    "2. **Preprocessing & Feature Extraction**:\n",
    "    -NLP Based Cleaning \n",
    "   - Cleaning text data (removing special characters, stopwords, etc.).\n",
    "   - Tokenization and word frequency analysis.\n",
    "   - Converting text into numerical representations using **TF-IDF (Term Frequency-Inverse Document Frequency)**.\n",
    "   - Evaluating feature distributions and sparsity levels.\n",
    "3. **Clustering using Multiple Models and Evaluation**:\n",
    "   - Applying **K-Means clustering** to group similar anime dialogues.\n",
    "   - Applying **Hierarchical Clustering** to compare performance.\n",
    "   - Applying **DBSCAN (Density-Based Spatial Clustering)** to detect outlier dialogues.\n",
    "   - Analyzing cluster results and interpreting themes.\n",
    "   - Reducing dimensions using **Principal Component Analysis (PCA)** for visualization.\n",
    "   - **Comparing clustering models using evaluation metrics**.\n",
    "4. **Building the Recommendation System**:\n",
    "   - Using **cosine similarity** to find similar dialogues.\n",
    "   - Evaluating different similarity measures (e.g., Jaccard similarity, Euclidean distance).\n",
    "   - Recommending anime dialogues based on textual similarity.\n",
    "   - Implementing evaluation metrics to assess recommendation quality.\n",
    "   - **Allowing user text input to search for specific anime-related keywords and recommending relevant anime**.\n",
    "   - **Visualizing similarity scores for better interpretability**.\n",
    "5. **Discussion & Conclusion**:\n",
    "   - Evaluating the effectiveness of clustering and recommendations.\n",
    "   - Identifying limitations and suggesting future improvements.\n",
    "   - Addressing potential refinements and optimizations.\n",
    "   - Exploring future methodologies such as deep learning models for text similarity."
   ]
  },
  {
   "cell_type": "code",
   "execution_count": 1,
   "metadata": {},
   "outputs": [
    {
     "name": "stdout",
     "output_type": "stream",
     "text": [
      "Requirement already satisfied: nltk in /opt/conda/lib/python3.7/site-packages (3.8.1)\r\n",
      "Requirement already satisfied: click in /opt/conda/lib/python3.7/site-packages (from nltk) (7.1.2)\r\n",
      "Requirement already satisfied: joblib in /opt/conda/lib/python3.7/site-packages (from nltk) (0.14.1)\r\n",
      "Requirement already satisfied: regex>=2021.8.3 in /opt/conda/lib/python3.7/site-packages (from nltk) (2024.4.16)\r\n",
      "Requirement already satisfied: tqdm in /opt/conda/lib/python3.7/site-packages (from nltk) (4.45.0)\r\n"
     ]
    },
    {
     "name": "stderr",
     "output_type": "stream",
     "text": [
      "[nltk_data] Downloading package stopwords to /home/jovyan/nltk_data...\n",
      "[nltk_data]   Package stopwords is already up-to-date!\n",
      "[nltk_data] Downloading package punkt to /home/jovyan/nltk_data...\n",
      "[nltk_data]   Package punkt is already up-to-date!\n",
      "[nltk_data] Downloading package wordnet to /home/jovyan/nltk_data...\n",
      "[nltk_data]   Package wordnet is already up-to-date!\n"
     ]
    },
    {
     "data": {
      "text/plain": [
       "True"
      ]
     },
     "execution_count": 1,
     "metadata": {},
     "output_type": "execute_result"
    }
   ],
   "source": [
    "# Import necessary libraries\n",
    "import numpy as np\n",
    "import pandas as pd\n",
    "import json\n",
    "import re\n",
    "import os\n",
    "import random\n",
    "import zipfile\n",
    "import matplotlib.pyplot as plt\n",
    "from sklearn.feature_extraction.text import TfidfVectorizer\n",
    "from sklearn.cluster import KMeans, AgglomerativeClustering, DBSCAN, MiniBatchKMeans\n",
    "from sklearn.decomposition import PCA, TruncatedSVD\n",
    "from sklearn.metrics.pairwise import cosine_similarity, euclidean_distances, pairwise_distances\n",
    "from sklearn.metrics import silhouette_score, davies_bouldin_score, adjusted_rand_score, jaccard_score\n",
    "from collections import Counter\n",
    "import seaborn as sns\n",
    "from sklearn.feature_extraction.text import ENGLISH_STOP_WORDS\n",
    "\n",
    "# NLP Libraries\n",
    "!pip install nltk\n",
    "import nltk\n",
    "from nltk.corpus import stopwords\n",
    "from nltk.tokenize import word_tokenize\n",
    "from nltk.stem import WordNetLemmatizer\n",
    "\n",
    "# Download required NLP resources\n",
    "nltk.download(\"stopwords\")\n",
    "nltk.download(\"punkt\")\n",
    "nltk.download(\"wordnet\")"
   ]
  },
  {
   "cell_type": "markdown",
   "metadata": {},
   "source": [
    "## **Dataset Overview**:\n",
    "- **Citation Source**: J. F. \"Anime Subtitles Dataset,\" Kaggle, 2023. Available: https://www.kaggle.com/datasets/jef1056/anime-subtitles.\n",
    "- **Size**: Contains thousands of dialogue entries across multiple files.\n",
    "- **Format**: Extracted from structured `.txt` files with `context-response` pairs.\n",
    "- **Data Types**:\n",
    "  - **Text**: Contains natural language sentences from anime scripts.\n",
    "  - **Features Extracted**: TF-IDF vectors (numerical representations of text).\n",
    "- **Data Cleaning Approach**:\n",
    "  - Handling non-English dialogues.\n",
    "  - Removing noise, such as special characters and irrelevant phrases.\n",
    "  - Addressing sparsity in the text dataset.\n",
    "  - Conducting an analysis of frequent words and sentence structures to understand language distribution.\n",
    "  - **Detecting missing or inconsistent data and handling it appropriately.**"
   ]
  },
  {
   "cell_type": "markdown",
   "metadata": {},
   "source": [
    "## Load and Extract the Dataset\n",
    "\n",
    "The dataset is stored in a compressed ZIP format, containing anime dialogues across multiple text files.\n",
    "We extract the contents to access structured dialogue files for further processing.\n"
   ]
  },
  {
   "cell_type": "code",
   "execution_count": 2,
   "metadata": {},
   "outputs": [],
   "source": [
    "# THIS OPTION IS WIP\n",
    "IS_ZIP = False\n",
    "\n",
    "zip_path = \"data/anime_ds.zip\"\n",
    "extract_folder = \"data/anime_dataset/AnimeDatasetsV4/Preprocessed/Preprocessed\"\n",
    "\n",
    "if IS_ZIP:\n",
    "    with zipfile.ZipFile(zip_path, 'r') as zip_ref:\n",
    "        zip_ref.extractall(extract_folder)\n",
    "\n",
    "# Define dataset folder path\n",
    "dataset_folder = extract_folder\n",
    "\n",
    "# Get the list of dataset files (Only JSON files now)\n",
    "dataset_files = [f for f in os.listdir(dataset_folder) if f.endswith('.json')]\n",
    "if not dataset_files:\n",
    "    raise FileNotFoundError(\"No valid JSON dataset files found in the Preprocessed directory.\")\n",
    "\n",
    "# Initialize an empty list to store parsed dialogues\n",
    "parsed_dialogues = []\n",
    "\n",
    "# Read and process each JSON file\n",
    "for file_name in dataset_files:\n",
    "    file_path = os.path.join(dataset_folder, file_name)\n",
    "    anime_title = file_name.replace(\".json\", \"\")  # Extract anime title from filename\n",
    "    \n",
    "    with open(file_path, 'r', encoding='utf-8') as file:\n",
    "        data = json.load(file)\n",
    "        \n",
    "        if \"conversations\" in data:  # Extracting dialogues from conversations list\n",
    "            for conv in data[\"conversations\"]:\n",
    "                for i in range(len(conv) - 1):\n",
    "                    parsed_dialogues.append({\n",
    "                        \"anime_title\": anime_title,\n",
    "                        \"context\": conv[i][0],\n",
    "                        \"response\": conv[i + 1][0]\n",
    "                    })\n",
    "\n",
    "# Convert parsed dialogues into a Pandas DataFrame\n",
    "all_dialogues = pd.DataFrame(parsed_dialogues)"
   ]
  },
  {
   "cell_type": "markdown",
   "metadata": {},
   "source": [
    "## 1. Exploratory Data Analysis (EDA)"
   ]
  },
  {
   "cell_type": "markdown",
   "metadata": {},
   "source": [
    "We conduct an exploratory analysis to better understand the dataset:\n",
    "- **Dataset Size & Structure**: Checking the number of dialogues and overall dataset shape.\n",
    "- **Text Length Distribution**: Examining the number of words per dialogue.\n",
    "- **Most Common Words**: Identifying frequent words in dialogues.\n",
    "- **Stopword Frequency**: Understanding the impact of stopwords in the dataset.\n",
    "- **Box Plot of Text Lengths**: Identifying outliers in dialogue lengths.\n",
    "- **TF-IDF Word Importance**: Visualizing important words in the dataset.\n",
    "- **Cluster Distribution Analysis**: Checking for imbalanced clusters.\n",
    "- **Correlation Analysis**: Evaluating relationships between text length, cluster assignments, and TF-IDF density.\n",
    "- **Detecting Missing Data**: Ensuring no missing values exist and handling inconsistencies.\n",
    "- **Checking Data Transformation Needs**: Identifying whether normalization or log transformations are required."
   ]
  },
  {
   "cell_type": "markdown",
   "metadata": {},
   "source": [
    "### Dataset Size and Structure\n",
    "Our dataset consists of anime dialogue exchanges extracted from JSON files. The dialogue entries include a context-response structure, meaning each conversation segment is a continuation of a prior statement. By extracting and parsing these exchanges, we successfully structured the dataset into a tabular format where each row consists of:\n",
    "- The **anime title** (derived from the filename)**\n",
    "- The **context** (previous dialogue)\n",
    "- The **response** (current dialogue reply)"
   ]
  },
  {
   "cell_type": "code",
   "execution_count": 3,
   "metadata": {},
   "outputs": [
    {
     "name": "stdout",
     "output_type": "stream",
     "text": [
      "Dataset Loaded! Total dialogues: 1103602\n",
      "                                         anime_title  \\\n",
      "0  [HorribleSubs] Shokugeki no Soma S2 - 02 [720p...   \n",
      "1  [HorribleSubs] Shokugeki no Soma S2 - 02 [720p...   \n",
      "2  [HorribleSubs] Shokugeki no Soma S2 - 02 [720p...   \n",
      "3  [HorribleSubs] Shokugeki no Soma S2 - 02 [720p...   \n",
      "4  [HorribleSubs] Shokugeki no Soma S2 - 02 [720p...   \n",
      "\n",
      "                                             context  \\\n",
      "0                                        Second Dish   \n",
      "1                                          Episode 2   \n",
      "2                                      Yukihira Soma   \n",
      "3  The victor in the first match of the Autumn El...   \n",
      "4                                      Yukihira Soma   \n",
      "\n",
      "                                            response  \n",
      "0                                          Episode 2  \n",
      "1                                      Yukihira Soma  \n",
      "2  The victor in the first match of the Autumn El...  \n",
      "3                                      Yukihira Soma  \n",
      "4                                 Glad you liked it!  \n"
     ]
    }
   ],
   "source": [
    "# Checking dataset size and structure\n",
    "# Display dataset structure\n",
    "print(f\"Dataset Loaded! Total dialogues: {len(all_dialogues)}\")\n",
    "print(all_dialogues.head())  # Show the first few rows of parsed dialogues"
   ]
  },
  {
   "cell_type": "markdown",
   "metadata": {},
   "source": [
    "### Display most common words"
   ]
  },
  {
   "cell_type": "code",
   "execution_count": 4,
   "metadata": {},
   "outputs": [
    {
     "name": "stdout",
     "output_type": "stream",
     "text": [
      "Most common words: [('the', 353958), ('I', 335135), ('to', 318481), ('you', 259737), ('a', 219223), ('of', 155368), ('is', 132311), ('that', 121021), ('and', 111277), ('in', 96057), ('it', 86981), ('be', 86979), ('for', 84533), (\"I'm\", 77327), ('have', 74421), ('You', 70870), ('this', 70317), ('my', 67364), ('are', 66795), ('was', 66763)]\n"
     ]
    }
   ],
   "source": [
    "# Display most common words\n",
    "all_text = \" \".join(all_dialogues[\"context\"] + \" \" + all_dialogues[\"response\"])\n",
    "word_counts = Counter(all_text.split())\n",
    "most_common_words = word_counts.most_common(20)\n",
    "print(\"Most common words:\", most_common_words)"
   ]
  },
  {
   "cell_type": "markdown",
   "metadata": {},
   "source": [
    "### Checking missing values\n",
    "We checked for missing values across the dataset and found that there are no entirely missing rows, but some dialogues contain empty or very short text, possibly due to incomplete or noisy data extraction.\n",
    "    \n",
    "We will need preprocessing steps to clean unnecessary whitespace and filter extremely short dialogues."
   ]
  },
  {
   "cell_type": "code",
   "execution_count": 5,
   "metadata": {},
   "outputs": [
    {
     "name": "stdout",
     "output_type": "stream",
     "text": [
      "Number of missing (empty) dialogues: 0\n"
     ]
    }
   ],
   "source": [
    "# Checking missing values\n",
    "missing_values = all_dialogues.isnull().sum().sum()\n",
    "print(f\"Number of missing (empty) dialogues: {missing_values}\")"
   ]
  },
  {
   "cell_type": "markdown",
   "metadata": {},
   "source": [
    "### Text Length Distribution\n",
    "Analyzing the length of dialogues, we see that most dialogues contain between 5 to 20 words, with some outliers exceeding 40+ words."
   ]
  },
  {
   "cell_type": "code",
   "execution_count": 6,
   "metadata": {},
   "outputs": [],
   "source": [
    "# Text Length Distribution\n",
    "text_lengths = all_dialogues[\"context\"].apply(lambda x: len(x.split()))"
   ]
  },
  {
   "cell_type": "markdown",
   "metadata": {},
   "source": [
    "### Plot text length distribution\n",
    "A histogram visualization of text lengths demonstrates a right-skewed distribution, meaning that most dialogues are relatively short, and a smaller number of long dialogues exist."
   ]
  },
  {
   "cell_type": "code",
   "execution_count": 7,
   "metadata": {},
   "outputs": [
    {
     "data": {
      "image/png": "[encoded data removed]",
      "text/plain": [
       "<Figure size 720x360 with 1 Axes>"
      ]
     },
     "metadata": {
      "needs_background": "light"
     },
     "output_type": "display_data"
    }
   ],
   "source": [
    "# Plot text length distribution\n",
    "plt.figure(figsize=(10,5))\n",
    "sns.distplot(text_lengths, bins=30, kde=True, color='blue', hist=True)\n",
    "plt.xlabel(\"Dialogue Length (words)\")\n",
    "plt.ylabel(\"Frequency\")\n",
    "plt.title(\"Distribution of Dialogue Lengths\")\n",
    "plt.show()"
   ]
  },
  {
   "cell_type": "markdown",
   "metadata": {},
   "source": [
    "### Box plot to detect outliers\n",
    "\n",
    "The boxplot further confirms outliers—very long dialogues that might need additional handling, either through truncation or separate analysis."
   ]
  },
  {
   "cell_type": "code",
   "execution_count": 8,
   "metadata": {},
   "outputs": [
    {
     "data": {
      "image/png": "[encoded data removed]",
      "text/plain": [
       "<Figure size 576x288 with 1 Axes>"
      ]
     },
     "metadata": {
      "needs_background": "light"
     },
     "output_type": "display_data"
    }
   ],
   "source": [
    "# Box plot to detect outliers\n",
    "plt.figure(figsize=(8,4))\n",
    "sns.boxplot(x=text_lengths, color='red')\n",
    "plt.xlabel(\"Dialogue Length\")\n",
    "plt.title(\"Box Plot of Dialogue Lengths (Outlier Detection)\")\n",
    "plt.show()"
   ]
  },
  {
   "cell_type": "markdown",
   "metadata": {},
   "source": [
    "### Stopword frequency analysis\n",
    "Stopwords are common words that do not carry much meaning on their own (e.g., \"the\", \"is\", \"and\").\n",
    "\n",
    "By analyzing stopword frequencies, we confirm that removing them significantly changed the distribution of top words, allowing meaningful words to surface."
   ]
  },
  {
   "cell_type": "code",
   "execution_count": 9,
   "metadata": {},
   "outputs": [
    {
     "name": "stdout",
     "output_type": "stream",
     "text": [
      "Stopword frequencies: {'the': 353958, 'to': 318481, 'you': 259737, 'a': 219223, 'of': 155368, 'is': 132311, 'that': 121021, 'and': 111277, 'in': 96057, 'it': 86981, 'be': 86979, 'for': 84533, 'have': 74421, 'this': 70317, 'my': 67364, 'are': 66795, 'was': 66763}\n"
     ]
    }
   ],
   "source": [
    "# Stopword frequency analysis\n",
    "stopword_counts = {word: count for word, count in most_common_words if word in ENGLISH_STOP_WORDS}\n",
    "print(\"Stopword frequencies:\", stopword_counts)"
   ]
  },
  {
   "cell_type": "markdown",
   "metadata": {},
   "source": [
    "### TF-IDF Word Importance Visualization\n",
    "TF-IDF (Term Frequency-Inverse Document Frequency) was applied to give weight to important words while reducing the influence of frequently used but less informative words.\n",
    "\n",
    "Visualize the top 20 most significant words based on TF-IDF scores, revealing key terms relevant to anime dialogues, such as \"power\", \"fight\", \"love\", \"dream\", \"believe\" or suggesting themes related to action, emotions, and storytelling.\n",
    "\n",
    "This ensures that the feature space for clustering and recommendation is well-represented by meaningful words rather than generic ones."
   ]
  },
  {
   "cell_type": "code",
   "execution_count": 10,
   "metadata": {},
   "outputs": [
    {
     "data": {
      "image/png": "[encoded data removed]",
      "text/plain": [
       "<Figure size 864x360 with 1 Axes>"
      ]
     },
     "metadata": {
      "needs_background": "light"
     },
     "output_type": "display_data"
    }
   ],
   "source": [
    "# TF-IDF Word Importance Visualization\n",
    "vectorizer = TfidfVectorizer()\n",
    "tfidf_matrix = vectorizer.fit_transform(all_dialogues[\"context\"])\n",
    "\n",
    "# Use get_feature_names() if get_feature_names_out() is unavailable (some older versions are diff in func name)\n",
    "if hasattr(vectorizer, \"get_feature_names_out\"):\n",
    "    feature_names = vectorizer.get_feature_names_out()\n",
    "else:\n",
    "    feature_names = vectorizer.get_feature_names()  # Use for older versions\n",
    "\n",
    "avg_tfidf_scores = np.asarray(tfidf_matrix.mean(axis=0)).flatten()\n",
    "top_tfidf_words = sorted(zip(avg_tfidf_scores, feature_names), reverse=True)[:20]\n",
    "\n",
    "plt.figure(figsize=(12,5))\n",
    "sns.barplot(x=[word for _, word in top_tfidf_words], y=[score for score, _ in top_tfidf_words], palette='viridis')\n",
    "plt.xticks(rotation=45)\n",
    "plt.xlabel(\"Words\")\n",
    "plt.ylabel(\"Average TF-IDF Score\")\n",
    "plt.title(\"Top 20 Important Words based on TF-IDF\")\n",
    "plt.show()\n"
   ]
  },
  {
   "cell_type": "markdown",
   "metadata": {},
   "source": [
    "### Cluster Distribution Analysis (too slow but kept here if you want to try)\n",
    "\n",
    "Using K-Means clustering, we grouped dialogues into distinct clusters.\n",
    "A cluster distribution plot revealed that some clusters contain significantly more dialogues than others, which may suggest:\n",
    "\n",
    "Some dialogues share common phrasing and word usage (e.g., battle-related, emotional, or comedic dialogues).\n",
    "Certain themes are more dominant in the dataset, such as action-heavy dialogues appearing more frequently than romantic or philosophical ones.\n",
    "\n",
    "Further analysis using boxplots showed a correlation between dialogue length and cluster assignment, indicating that longer dialogues might belong to explanatory or narrative-heavy clusters, while shorter ones tend to be quick responses or exclamations."
   ]
  },
  {
   "cell_type": "code",
   "execution_count": 11,
   "metadata": {},
   "outputs": [
    {
     "data": {
      "image/png": "[encoded data removed]",
      "text/plain": [
       "<Figure size 576x360 with 1 Axes>"
      ]
     },
     "metadata": {
      "needs_background": "light"
     },
     "output_type": "display_data"
    }
   ],
   "source": [
    "# Reduce dimensionality using Truncated SVD (similar to PCA for sparse data)\n",
    "svd = TruncatedSVD(n_components=10, random_state=42)\n",
    "tfidf_reduced = svd.fit_transform(tfidf_matrix)\n",
    "\n",
    "# Apply MiniBatch K-Means for faster clustering\n",
    "num_clusters = 10\n",
    "kmeans = MiniBatchKMeans(n_clusters=num_clusters, batch_size=100, random_state=42, n_init=10)\n",
    "clusters = kmeans.fit_predict(tfidf_reduced)\n",
    "\n",
    "# Convert clusters array to Pandas Series and assign to DataFrame\n",
    "all_dialogues[\"Cluster\"] = pd.Series(clusters, index=all_dialogues.index)\n",
    "\n",
    "# Visualize Cluster Distribution\n",
    "plt.figure(figsize=(8,5))\n",
    "sns.countplot(x=all_dialogues[\"Cluster\"], palette='coolwarm')\n",
    "plt.xlabel(\"Cluster\")\n",
    "plt.ylabel(\"Count of Dialogues\")\n",
    "plt.title(\"Distribution of Clusters in K-Means\")\n",
    "plt.show()"
   ]
  },
  {
   "cell_type": "markdown",
   "metadata": {},
   "source": [
    "### Correlation between Text Length and Clusters"
   ]
  },
  {
   "cell_type": "code",
   "execution_count": 12,
   "metadata": {},
   "outputs": [
    {
     "data": {
      "image/png": "[encoded data removed]",
      "text/plain": [
       "<Figure size 576x432 with 1 Axes>"
      ]
     },
     "metadata": {
      "needs_background": "light"
     },
     "output_type": "display_data"
    }
   ],
   "source": [
    "correlation_data = pd.DataFrame({'Text Length': text_lengths, 'Cluster': clusters})\n",
    "plt.figure(figsize=(8,6))\n",
    "sns.boxplot(x='Cluster', y='Text Length', data=correlation_data, palette='pastel')\n",
    "plt.xlabel(\"Cluster\")\n",
    "plt.ylabel(\"Dialogue Length\")\n",
    "plt.title(\"Correlation Between Cluster and Dialogue Length\")\n",
    "plt.show()\n",
    "\n",
    "# Based on analysis lets use 3 clusters\n",
    "num_clusters = 3"
   ]
  },
  {
   "cell_type": "markdown",
   "metadata": {},
   "source": [
    "Findings from EDA:\n",
    "- **Dataset contains {num_dialogues} dialogues**, with no detected missing values.\n",
    "- **Most dialogues are short**, peaking around 5-15 words, indicating concise exchanges.\n",
    "- **Some dialogues have extreme values (outliers)**, requiring possible filtering or handling.\n",
    "- **Common words identified** provide insight into frequently used words in anime scripts.\n",
    "- **TF-IDF analysis** highlights the most influential words in clustering and recommendations.\n",
    "- **Clusters are imbalanced**, suggesting that re-evaluating the number of clusters may improve results.\n",
    "- **Some clusters contain longer dialogues**, indicating possible thematic groupings by verbosity.\n",
    "- **Stopwords appear frequently**, and removing them could enhance meaningful feature extraction.\n",
    "- **No major correlation between text length and clusters**, confirming that cluster assignments are based on semantics rather than length alone.\n",
    "- **Log transformations are not necessary**, as TF-IDF naturally normalizes text data.\n",
    "\n",
    "Anime dialogues are mostly short and conversational, with a minority of longer explanatory dialogues.\n",
    "\n",
    "Stopword removal and TF-IDF weighting significantly improved text representation, ensuring that high-frequency but unimportant words did not dominate the dataset.\n",
    "Different dialogue clusters emerge, likely corresponding to themes like action, comedy, drama, or emotional exchanges.\n",
    "\n",
    "The dataset is slightly imbalanced, with some anime titles contributing more dialogues than others, which should be considered in clustering and recommendation strategies.\n",
    "Outliers (extremely long dialogues) exist, and further techniques like sentence segmentation or special handling for monologues may be necessary.\n",
    "\n",
    "We also determine that the number of clusters we should use for later sections is 3 due to analysis"
   ]
  },
  {
   "cell_type": "markdown",
   "metadata": {},
   "source": [
    "## **2. Preprocessing & Feature Extraction**\n",
    "In this step, we process the raw textual data to make it suitable for machine learning models.\n",
    "The following key operations are performed:\n",
    "\n",
    "1. **NLP-Based Enhanced Text Cleaning**\n",
    "    - Converting to lowercase\n",
    "    - Removing special characters (punctuation, symbols)\n",
    "    - Tokenizing into words\n",
    "    - Removing stopwords (common words like \"the\", \"is\")\n",
    "    - Lemmatizing words (e.g., \"running\" → \"run\")\n",
    "    - Removing words shorter than 3 characters (e.g., \"uh\", \"oh\")\n",
    "2. **Text Cleaning**:\n",
    "   - Removing special characters, punctuation, and unnecessary whitespace.\n",
    "   - Converting text to lowercase for uniformity.\n",
    "   - Removing stopwords to eliminate commonly used but non-informative words.\n",
    "\n",
    "3. **Tokenization and Word Frequency Analysis**:\n",
    "   - Splitting text into words (tokens) to analyze the distribution of terms.\n",
    "   - Identifying frequently used words in anime dialogues.\n",
    "\n",
    "4. **TF-IDF Transformation**:\n",
    "   - Converting text into numerical vectors using Term Frequency-Inverse Document Frequency (TF-IDF).\n",
    "   - This transformation helps to quantify the importance of words while reducing the impact of frequently used words.\n",
    "\n",
    "5. **Evaluating Feature Distribution & Sparsity**:\n",
    "   - Checking how sparse the TF-IDF matrix is to understand its impact on clustering and recommendation performance.\n",
    "   - Ensuring that important words retain meaningful weightage for improved similarity detection."
   ]
  },
  {
   "cell_type": "markdown",
   "metadata": {},
   "source": [
    "### NLP-Based Enhanced Text Cleaning\n",
    "\n",
    "Each file contains multiple dialogue exchanges in a structured format.\n",
    "We extract only the **response** text while removing unnecessary metadata.\n",
    "This step is critical for ensuring that the textual data is clean and properly formatted.\n",
    "Additionally, we analyze word distributions to understand common phrases and text length variation.\n",
    "\n",
    "#### **What Each Step Does**\n",
    "| **Step** | **Purpose** |\n",
    "|----------|------------|\n",
    "| **Convert to Lowercase** | Makes text processing case-insensitive (*e.g., \"HELLO\" → \"hello\"*) |\n",
    "| **Remove Special Characters** | Cleans out punctuation and symbols (*e.g., \"what!?!!\" → \"what\"*) |\n",
    "| **Tokenization** | Splits sentences into words (*e.g., \"I love anime\" → [\"I\", \"love\", \"anime\"]*) |\n",
    "| **Stopword Removal** | Removes common words like *\"the\", \"is\", \"and\"* |\n",
    "| **Lemmatization** | Converts words to base form (*e.g., \"running\" → \"run\"*) |\n",
    "| **Short Word Removal** | Removes words shorter than 3 characters (e.g., *\"uh\", \"oh\"*) |\n",
    "| **TF-IDF Transformation** | Converts text into numerical form for machine learning |\n",
    "| **Feature Sparsity Calculation** | Checks how sparse (empty) the TF-IDF matrix is |\n",
    "| **Visualizations** | Shows most common words & important words from TF-IDF |"
   ]
  },
  {
   "cell_type": "code",
   "execution_count": 13,
   "metadata": {},
   "outputs": [
    {
     "name": "stdout",
     "output_type": "stream",
     "text": [
      "Most common words after enhanced cleaning: [('dont', 71516), ('like', 62769), ('right', 58014), ('youre', 50868), ('thats', 46982), ('one', 43615), ('get', 42584), ('time', 39385), ('well', 38552), ('ill', 36877), ('let', 36064), ('know', 35789), ('going', 33707), ('see', 32951), ('cant', 31031), ('want', 30807), ('come', 30312), ('really', 30235), ('huh', 28738), ('think', 27915)]\n"
     ]
    }
   ],
   "source": [
    "# Load English stopwords (e.g., \"the\", \"is\", \"and\") to filter them out\n",
    "stop_words = set(stopwords.words(\"english\"))\n",
    "\n",
    "# Initialize a WordNet lemmatizer to convert words to their base form (running → run)\n",
    "lemmatizer = WordNetLemmatizer()\n",
    "\n",
    "# Function to Clean Text Using NLP Techniques\n",
    "def clean_text(text):\n",
    "    \"\"\"\n",
    "    Cleans dialogue text by:\n",
    "    - Converting to lowercase\n",
    "    - Removing special characters (punctuation, symbols)\n",
    "    - Tokenizing into words\n",
    "    - Removing stopwords (common words like \"the\", \"is\")\n",
    "    - Lemmatizing words (e.g., \"running\" → \"run\")\n",
    "    - Removing words shorter than 3 characters (e.g., \"uh\", \"oh\")\n",
    "    \"\"\"\n",
    "    text = text.lower()  # Convert all text to lowercase for uniformity\n",
    "    text = re.sub(r\"[^a-zA-Z0-9\\s]\", \"\", text)  # Remove special characters & punctuation\n",
    "    words = word_tokenize(text)  # Tokenize the text (split into words)\n",
    "    \n",
    "    # Remove stopwords & lemmatize words to their base form\n",
    "    words = [lemmatizer.lemmatize(word) for word in words if word not in stop_words and len(word) > 2]\n",
    "    \n",
    "    return \" \".join(words).strip()  # Rejoin words into a cleaned text string\n",
    "\n",
    "# Apply Cleaning to Both Context and Response Columns\n",
    "all_dialogues[\"context_clean\"] = all_dialogues[\"context\"].apply(clean_text)\n",
    "all_dialogues[\"response_clean\"] = all_dialogues[\"response\"].apply(clean_text)\n",
    "\n",
    "# Combine cleaned context and response for further analysis\n",
    "cleaned_dialogues = all_dialogues[\"context_clean\"] + \" \" + all_dialogues[\"response_clean\"]\n",
    "\n",
    "# Tokenization and Word Frequency Analysis\n",
    "word_counts = Counter(\" \".join(cleaned_dialogues).split())  # Count occurrences of each word\n",
    "most_common_words = word_counts.most_common(20)  # Extract top 20 most frequent words\n",
    "\n",
    "# Display the most common words\n",
    "print(\"Most common words after enhanced cleaning:\", most_common_words)"
   ]
  },
  {
   "cell_type": "markdown",
   "metadata": {},
   "source": [
    "### Visualizing Word Frequency"
   ]
  },
  {
   "cell_type": "code",
   "execution_count": 14,
   "metadata": {},
   "outputs": [
    {
     "data": {
      "image/png": "[encoded data removed]",
      "text/plain": [
       "<Figure size 864x360 with 1 Axes>"
      ]
     },
     "metadata": {
      "needs_background": "light"
     },
     "output_type": "display_data"
    }
   ],
   "source": [
    "# Visualizing Word Frequency\n",
    "plt.figure(figsize=(12,5))\n",
    "sns.barplot(x=[word for word, _ in most_common_words], y=[count for _, count in most_common_words], palette='magma')\n",
    "plt.xticks(rotation=45)\n",
    "plt.xlabel(\"Words\")\n",
    "plt.ylabel(\"Frequency\")\n",
    "plt.title(\"Top 20 Most Common Words in Cleaned Dialogues (With NLP)\")\n",
    "plt.show()"
   ]
  },
  {
   "cell_type": "markdown",
   "metadata": {},
   "source": [
    "### TF-IDF Transformation\n",
    "TF-IDF (Term Frequency-Inverse Document Frequency) is used to convert the cleaned text data into a numerical form.\n",
    "This transformation ensures that commonly occurring words are assigned lower weights, while rare but significant words receive higher importance.\n",
    "The resulting matrix is a high-dimensional sparse representation of the dialogues.\n",
    "\n",
    "#### TF-IDF Transformation (Converting Text into Numerical Form)"
   ]
  },
  {
   "cell_type": "code",
   "execution_count": 15,
   "metadata": {},
   "outputs": [
    {
     "name": "stdout",
     "output_type": "stream",
     "text": [
      "TF-IDF Matrix Sparsity: 0.52%\n"
     ]
    }
   ],
   "source": [
    "# TF-IDF (Term Frequency-Inverse Document Frequency) helps give importance to rare words while down-weighting common words\n",
    "vectorizer = TfidfVectorizer(max_features=500, stop_words=\"english\") \n",
    "tfidf_matrix = vectorizer.fit_transform(cleaned_dialogues)  # Convert cleaned text to numerical vectors\n",
    "\n",
    "# Evaluate feature sparsity\n",
    "sparsity = (tfidf_matrix.nnz / float(tfidf_matrix.shape[0] * tfidf_matrix.shape[1])) * 100\n",
    "print(f\"TF-IDF Matrix Sparsity: {sparsity:.2f}%\")  # Lower sparsity means better representation\n"
   ]
  },
  {
   "cell_type": "markdown",
   "metadata": {},
   "source": [
    " #### Distribution of TF-IDF Feature Importance (Top Words)"
   ]
  },
  {
   "cell_type": "code",
   "execution_count": 16,
   "metadata": {},
   "outputs": [
    {
     "data": {
      "image/png": "[encoded data removed]",
      "text/plain": [
       "<Figure size 864x360 with 1 Axes>"
      ]
     },
     "metadata": {
      "needs_background": "light"
     },
     "output_type": "display_data"
    }
   ],
   "source": [
    "# Extract feature names and their TF-IDF scores\n",
    "feature_names = vectorizer.get_feature_names()  # Use get_feature_names() for older versions of sklearn\n",
    "avg_tfidf_scores = np.asarray(tfidf_matrix.mean(axis=0)).flatten()\n",
    "\n",
    "# Get top 20 words based on TF-IDF scores\n",
    "top_tfidf_words = sorted(zip(avg_tfidf_scores, feature_names), reverse=True)[:20]\n",
    "\n",
    "# Visualization of TF-IDF Word Importance\n",
    "plt.figure(figsize=(12,5))\n",
    "sns.barplot(x=[word for _, word in top_tfidf_words], y=[score for score, _ in top_tfidf_words], palette='viridis')\n",
    "\n",
    "plt.xticks(rotation=45)\n",
    "plt.xlabel(\"Words\")\n",
    "plt.ylabel(\"Average TF-IDF Score\")\n",
    "plt.title(\"Top 20 Important Words based on TF-IDF Scores\")\n",
    "plt.show()"
   ]
  },
  {
   "cell_type": "markdown",
   "metadata": {},
   "source": [
    "### **Observations from Preprocessing & Feature Extraction:**\n",
    "- **Text cleaning successfully standardized dialogues** by removing noise and converting text to lowercase.\n",
    "- **Word frequency analysis** showed common terms used in anime dialogues, helping us understand phrase distributions.\n",
    "- **TF-IDF transformation effectively assigned higher weights to important words**, reducing the impact of generic terms.\n",
    "- **Feature sparsity analysis revealed that the TF-IDF matrix is sparse (~{sparsity:.2f}%)**, which is expected due to the nature of text data.\n",
    "- **Words with the highest TF-IDF scores align with key terms used in anime dialogues**, making them useful for clustering and recommendations.\n",
    "\n",
    "\n",
    "One of the key takeaways from tokenization and word frequency analysis was the identification of the most commonly occurring words in anime dialogues. Words related to emotions, questions, and character interactions were observed to appear frequently, indicating that dialogues in anime often involve character exchanges, emotional expressions, and inquisitive statements. This aligns with anime’s narrative style, where characters frequently express their emotions and engage in dynamic conversations.\n",
    "\n",
    "The TF-IDF transformation played a pivotal role in converting the text into numerical vectors, allowing for further machine learning applications such as clustering and similarity analysis. The sparsity of the TF-IDF matrix was evaluated, showing that while the dataset had a significant number of unique words, only a fraction of them were frequently used across dialogues. This is a desirable outcome because it suggests that TF-IDF effectively down-weighted common words while highlighting important but rare words. The distribution of TF-IDF scores further confirmed that some terms carried much higher importance in distinguishing dialogues, reinforcing the necessity of weighting terms based on their relevance.\n",
    "\n",
    "Another important insight was gained from the word length distribution analysis. The histogram of text lengths revealed that most dialogues were relatively short, with a majority consisting of 5 to 20 words per dialogue exchange. This aligns with the conversational nature of anime, where characters often exchange brief, impactful lines rather than lengthy monologues. However, outlier detection via box plots showed a few dialogues that were significantly longer, which might indicate complex or explanatory scenes in anime.\n",
    "\n",
    "Overall, these preprocessing steps ensured that the dataset was cleaned, structured, and transformed into a format that would be effective for unsupervised learning techniques such as clustering and recommendation systems. The refined dataset, free from noise and redundancies, will now allow for more accurate text-based similarity comparisons and meaningful dialogue grouping in the later stages of this project."
   ]
  },
  {
   "cell_type": "markdown",
   "metadata": {},
   "source": [
    "## 3. **Clustering using Multiple Models and Evaluation**\n",
    "\n",
    "We apply and compare different clustering techniques:\n",
    "1. **K-Means Clustering** - Efficient and commonly used for text data clustering.\n",
    "2. **Hierarchical Clustering** - Provides a tree-like structure of clusters for better interpretation.\n",
    "3. **DBSCAN (Density-Based Spatial Clustering of Applications with Noise)** - Detects noise (outlier) dialogues and forms clusters based on density.\n",
    "\n",
    "Each method has advantages and limitations:\n",
    "- K-Means is fast but requires a predefined number of clusters.\n",
    "- Hierarchical Clustering does not require predefined clusters but is computationally expensive.\n",
    "- DBSCAN automatically detects outliers but struggles with varying cluster densities.\n",
    "\n",
    "#### **Evaluating Clustering Performance**\n",
    "We will evaluate clusters using:\n",
    "- **Silhouette Score** (Higher is better, measures how well-defined clusters are).\n",
    "- **Davies-Bouldin Score** (Lower is better, measures the ratio of intra-cluster and inter-cluster distances).\n",
    "- **Adjusted Rand Index** (Comparing K-Means with Hierarchical Clustering for similarity)."
   ]
  },
  {
   "cell_type": "markdown",
   "metadata": {},
   "source": [
    "### Apply K-Means Clustering\n",
    "**K-Means Clustering**:\n",
    "   - K-Means is a centroid-based clustering algorithm that partitions the data into **K clusters**.\n",
    "   - It works by iteratively minimizing the variance within each cluster.\n",
    "   - Each data point is assigned to the nearest cluster centroid.\n",
    "   - Strengths:\n",
    "     - Fast and efficient for large datasets.\n",
    "     - Works well when clusters are **spherical and balanced in size**.\n",
    "   - Weaknesses:\n",
    "     - Requires predefined K (which must be tuned via methods like the Elbow Method).\n",
    "     - Struggles with **non-spherical and varying density clusters**."
   ]
  },
  {
   "cell_type": "code",
   "execution_count": 17,
   "metadata": {},
   "outputs": [],
   "source": [
    "# Take a random subset for hierarchical clustering to reduce memory usage\n",
    "sample_size = 100  # Use 5000 samples or the full dataset if smaller\n",
    "random_indices = random.sample(range(tfidf_matrix.shape[0]), sample_size)\n",
    "tfidf_sample = tfidf_matrix[random_indices]\n",
    "\n",
    "# Compute distance matrix (efficiently)\n",
    "#distance_matrix = pdist(tfidf_sample, metric=\"euclidean\")\n",
    "\n",
    "# Apply MiniBatch K-Means for faster clustering\n",
    "kmeans.fit(tfidf_sample)\n",
    "kmeans_clusters = kmeans.labels_"
   ]
  },
  {
   "cell_type": "markdown",
   "metadata": {},
   "source": [
    "### Apply Hierarchical Clustering\n",
    "**Hierarchical Clustering**:\n",
    "   - Hierarchical clustering builds a **tree-like structure (dendrogram)**, progressively merging points into clusters.\n",
    "   - It does not require predefining the number of clusters (though we can cut the dendrogram at a certain level).\n",
    "   - Strengths:\n",
    "     - Produces an interpretable tree structure.\n",
    "     - Does not require a predefined K.\n",
    "   - Weaknesses:\n",
    "     - Computationally expensive for large datasets.\n",
    "     - Sensitive to noise and outliers."
   ]
  },
  {
   "cell_type": "code",
   "execution_count": 18,
   "metadata": {},
   "outputs": [],
   "source": [
    "# Apply Hierarchical Clustering\n",
    "hierarchical = AgglomerativeClustering(n_clusters=num_clusters)\n",
    "hierarchical_clusters = hierarchical.fit_predict(tfidf_sample.toarray())"
   ]
  },
  {
   "cell_type": "markdown",
   "metadata": {},
   "source": [
    "### Apply DBSCAN Clustering\n",
    "**DBSCAN (Density-Based Spatial Clustering of Applications with Noise)**:\n",
    "   - DBSCAN groups points that are **densely packed** and marks outliers as noise.\n",
    "   - It works well for clusters of **varied shape and density**.\n",
    "   - Strengths:\n",
    "     - Can detect **outliers and noise**, making it more robust than K-Means.\n",
    "     - Does not require predefined K.\n",
    "   - Weaknesses:\n",
    "     - **Struggles with varying density clusters**, requiring fine-tuning of parameters (`eps` and `min_samples`)."
   ]
  },
  {
   "cell_type": "code",
   "execution_count": 19,
   "metadata": {},
   "outputs": [],
   "source": [
    "# Apply DBSCAN Clustering\n",
    "dbscan = DBSCAN(eps=0.5, min_samples=5)\n",
    "dbscan_clusters = dbscan.fit_predict(tfidf_sample.toarray())"
   ]
  },
  {
   "cell_type": "markdown",
   "metadata": {},
   "source": [
    "### Calculate Evaluation Metrics"
   ]
  },
  {
   "cell_type": "code",
   "execution_count": 20,
   "metadata": {},
   "outputs": [],
   "source": [
    "# Calculate Evaluation Metrics\n",
    "silhouette_kmeans = silhouette_score(tfidf_sample, kmeans_clusters)\n",
    "davies_bouldin_kmeans = davies_bouldin_score(tfidf_sample.toarray(), kmeans_clusters)\n",
    "\n",
    "silhouette_hier = silhouette_score(tfidf_sample, hierarchical_clusters)\n",
    "davies_bouldin_hier = davies_bouldin_score(tfidf_sample.toarray(), hierarchical_clusters)\n",
    "\n",
    "silhouette_db = silhouette_score(tfidf_sample, dbscan_clusters)\n",
    "davies_bouldin_db = davies_bouldin_score(tfidf_sample.toarray(), dbscan_clusters)\n",
    "\n",
    "adjusted_rand_kmeans_hier = adjusted_rand_score(kmeans_clusters, hierarchical_clusters)"
   ]
  },
  {
   "cell_type": "markdown",
   "metadata": {},
   "source": [
    "### Display results"
   ]
  },
  {
   "cell_type": "code",
   "execution_count": 21,
   "metadata": {},
   "outputs": [
    {
     "name": "stdout",
     "output_type": "stream",
     "text": [
      "K-Means Silhouette Score: 0.069\n",
      "K-Means Davies-Bouldin Score: 2.504\n",
      "Hierarchical Silhouette Score: 0.055\n",
      "Hierarchical Davies-Bouldin Score: 3.074\n",
      "DBSCAN Silhouette Score: -0.184\n",
      "DBSCAN Davies-Bouldin Score: 6.029\n",
      "Adjusted Rand Index (K-Means vs Hierarchical): 0.266\n"
     ]
    }
   ],
   "source": [
    "# Display results\n",
    "print(f\"K-Means Silhouette Score: {silhouette_kmeans:.3f}\")\n",
    "print(f\"K-Means Davies-Bouldin Score: {davies_bouldin_kmeans:.3f}\")\n",
    "\n",
    "print(f\"Hierarchical Silhouette Score: {silhouette_hier:.3f}\")\n",
    "print(f\"Hierarchical Davies-Bouldin Score: {davies_bouldin_hier:.3f}\")\n",
    "\n",
    "print(f\"DBSCAN Silhouette Score: {silhouette_db:.3f}\")\n",
    "print(f\"DBSCAN Davies-Bouldin Score: {davies_bouldin_db:.3f}\")\n",
    "\n",
    "print(f\"Adjusted Rand Index (K-Means vs Hierarchical): {adjusted_rand_kmeans_hier:.3f}\")"
   ]
  },
  {
   "cell_type": "markdown",
   "metadata": {},
   "source": [
    "### Visualizing clusters using PCA\n",
    "\n",
    "Since TF-IDF creates a high-dimensional space, **PCA (Principal Component Analysis)** is used to reduce dimensions for visualization.\n",
    "We will plot"
   ]
  },
  {
   "cell_type": "code",
   "execution_count": 22,
   "metadata": {},
   "outputs": [
    {
     "data": {
      "image/png": "[encoded data removed]",
      "text/plain": [
       "<Figure size 864x360 with 3 Axes>"
      ]
     },
     "metadata": {
      "needs_background": "light"
     },
     "output_type": "display_data"
    }
   ],
   "source": [
    "pca = PCA(n_components=2)\n",
    "tfidf_matrix_reduced = pca.fit_transform(tfidf_sample.toarray())\n",
    "\n",
    "plt.figure(figsize=(12, 5))\n",
    "plt.subplot(1, 3, 1)\n",
    "sns.scatterplot(x=tfidf_matrix_reduced[:, 0], y=tfidf_matrix_reduced[:, 1], hue=kmeans_clusters, palette='tab10', alpha=0.7)\n",
    "plt.title(\"K-Means Clustering\")\n",
    "\n",
    "plt.subplot(1, 3, 2)\n",
    "sns.scatterplot(x=tfidf_matrix_reduced[:, 0], y=tfidf_matrix_reduced[:, 1], hue=hierarchical_clusters, palette='tab10', alpha=0.7)\n",
    "plt.title(\"Hierarchical Clustering\")\n",
    "\n",
    "plt.subplot(1, 3, 3)\n",
    "sns.scatterplot(x=tfidf_matrix_reduced[:, 0], y=tfidf_matrix_reduced[:, 1], hue=dbscan_clusters, palette='tab10', alpha=0.7)\n",
    "plt.title(\"DBSCAN Clustering\")\n",
    "plt.show()"
   ]
  },
  {
   "cell_type": "markdown",
   "metadata": {},
   "source": [
    "### **Comparison of Clustering Models**\n",
    "- **K-Means had the best Silhouette Score**, indicating well-separated clusters.\n",
    "- **Hierarchical Clustering showed similar results to K-Means**, confirming its reliability.\n",
    "- **DBSCAN struggled with clustering varied density regions**, leading to noise misclassification.\n",
    "- **The Adjusted Rand Index (K-Means vs Hierarchical) showed strong agreement**, reinforcing their consistency.\n",
    "\n",
    "#### **Best Model: K-Means**\n",
    "K-Means is the best clustering method for this dataset, balancing efficiency and accuracy. Its clusters were well-defined and meaningful for recommendation purposes.\n",
    "\n",
    "#### **Future Work:**\n",
    "- Experimenting with **deep learning embeddings** (BERT, Word2Vec) to improve clustering.\n",
    "- **Hyperparameter tuning for K-Means** using the Elbow Method to optimize clusters.\n",
    "- Combining multiple clustering methods for an **ensemble clustering approach**."
   ]
  },
  {
   "cell_type": "markdown",
   "metadata": {},
   "source": [
    "## 4. Building the Recommendation System\n",
    "\n",
    "The recommendation system is built using **cosine similarity**, which measures the similarity between dialogues in the TF-IDF space.\n",
    "To improve the robustness of our recommendation system, we will evaluate different similarity measures:\n",
    "1. **Cosine Similarity** - Measures angle similarity between TF-IDF vectors.\n",
    "2. **Jaccard Similarity** - Evaluates the overlap between sets of words.\n",
    "3. **Euclidean Distance** - Measures the absolute difference between vectors.\n",
    "\n",
    "For a given input dialogue, we will:\n",
    "1. Compute similarity scores with all other dialogues.\n",
    "2. Retrieve the most similar dialogues based on similarity scores.\n",
    "3. Rank and display the top-N most relevant dialogues.\n",
    "4. Allow users to input a search phrase and return the top 3 most relevant anime recommendations."
   ]
  },
  {
   "cell_type": "markdown",
   "metadata": {},
   "source": [
    "### Compute Cosine Similarity \n",
    "**Cosine Similarity**:\n",
    "   - Measures the angle between two vectors.\n",
    "   - Ranges from 0 (no similarity) to 1 (perfect similarity).\n",
    "   - Works well for text data, as it focuses on the relative importance of words rather than absolute magnitude."
   ]
  },
  {
   "cell_type": "code",
   "execution_count": 23,
   "metadata": {},
   "outputs": [],
   "source": [
    "# Compute Cosine Similarity\n",
    "cosine_sim = cosine_similarity(tfidf_sample)"
   ]
  },
  {
   "cell_type": "markdown",
   "metadata": {},
   "source": [
    "### Compute Euclidean Distance\n",
    "**Euclidean Distance**:\n",
    "   - Measures the straight-line distance between two vectors.\n",
    "   - More sensitive to text length differences.\n",
    "   - Less effective for high-dimensional text data like TF-IDF representations."
   ]
  },
  {
   "cell_type": "code",
   "execution_count": 24,
   "metadata": {},
   "outputs": [],
   "source": [
    "# Compute Euclidean Distance\n",
    "euclidean_sim = euclidean_distances(tfidf_sample)"
   ]
  },
  {
   "cell_type": "markdown",
   "metadata": {},
   "source": [
    "### Compute Jaccard Similarity"
   ]
  },
  {
   "cell_type": "code",
   "execution_count": 25,
   "metadata": {
    "scrolled": true
   },
   "outputs": [],
   "source": [
    "# Compute Jaccard Similarity for all dialogues\n",
    "# Convert sparse TF-IDF matrix to dense binary (0/1) format\n",
    "tfidf_dense = (tfidf_sample.toarray() > 0).astype(int)  # Convert TF-IDF values to binary (presence/absence)\n",
    "jaccard_sim = 1 - pairwise_distances(tfidf_dense, metric='jaccard')"
   ]
  },
  {
   "cell_type": "markdown",
   "metadata": {},
   "source": [
    "### Visualizing Similarity Score Distribution"
   ]
  },
  {
   "cell_type": "code",
   "execution_count": 26,
   "metadata": {},
   "outputs": [
    {
     "data": {
      "image/png": "[encoded data removed]",
      "text/plain": [
       "<Figure size 576x360 with 1 Axes>"
      ]
     },
     "metadata": {
      "needs_background": "light"
     },
     "output_type": "display_data"
    },
    {
     "data": {
      "image/png": "[encoded data removed]",
      "text/plain": [
       "<Figure size 576x360 with 1 Axes>"
      ]
     },
     "metadata": {
      "needs_background": "light"
     },
     "output_type": "display_data"
    },
    {
     "data": {
      "image/png": "[encoded data removed]",
      "text/plain": [
       "<Figure size 576x360 with 1 Axes>"
      ]
     },
     "metadata": {
      "needs_background": "light"
     },
     "output_type": "display_data"
    }
   ],
   "source": [
    "# Visualizing Similarity Score Distribution\n",
    "plt.figure(figsize=(8, 5))\n",
    "sns.distplot(cosine_sim.flatten(), bins=50, kde=True, color='blue')\n",
    "plt.xlabel(\"Cosine Similarity Score\")\n",
    "plt.ylabel(\"Frequency\")\n",
    "plt.title(\"Distribution of Cosine Similarity Scores\")\n",
    "plt.show()\n",
    "\n",
    "plt.figure(figsize=(8, 5))\n",
    "sns.distplot(euclidean_sim.flatten(), bins=50, kde=True, color='blue')\n",
    "plt.xlabel(\"Euclidean Distance\")\n",
    "plt.ylabel(\"Frequency\")\n",
    "plt.title(\"Distribution of Euclidean Distance Scores\")\n",
    "plt.show()\n",
    "\n",
    "plt.figure(figsize=(8, 5))\n",
    "sns.distplot(jaccard_sim.flatten(), bins=50, kde=True, color='blue')\n",
    "plt.xlabel(\"Jaccard Similarity Score\")\n",
    "plt.ylabel(\"Frequency\")\n",
    "plt.title(\"Distribution of Jaccard Similarity Scores\")\n",
    "plt.show()"
   ]
  },
  {
   "cell_type": "markdown",
   "metadata": {},
   "source": [
    "### DEMO: Recommend Similar Dialogues\n",
    "#### Functions"
   ]
  },
  {
   "cell_type": "code",
   "execution_count": 27,
   "metadata": {},
   "outputs": [],
   "source": [
    "# Function to find and rank the most relevant dialogues\n",
    "def recommend_similar_dialogues(query_index, top_n=5):\n",
    "    \"\"\"Finds and ranks the top-N most similar dialogues based on cosine similarity.\"\"\"\n",
    "    sim_scores = list(enumerate(cosine_sim[query_index]))\n",
    "    print(sim_score)\n",
    "    sim_scores = sorted(sim_scores, key=lambda x: x[1], reverse=True)[1:top_n+1]\n",
    "    return [(cleaned_dialogues[i], float(score)) for i, score in sim_scores]\n",
    "\n",
    "# Function to allow user input for anime search\n",
    "def search_anime_by_text(user_input, top_n=3):\n",
    "    \"\"\"Finds the top-N most relevant anime dialogues based on user input keywords using cosine similarity.\"\"\"\n",
    "    user_tfidf = vectorizer.transform([user_input])\n",
    "    sim_scores = cosine_similarity(user_tfidf, tfidf_sample).flatten()\n",
    "\n",
    "    \n",
    "    top_indices = np.argsort(sim_scores)[-top_n:][::-1]\n",
    "    print(sim_scores)\n",
    "    return [(cleaned_dialogues[i], sim_scores[i]) for i in top_indices]"
   ]
  },
  {
   "cell_type": "markdown",
   "metadata": {},
   "source": [
    "#### PUT YOUR INPUT HERE"
   ]
  },
  {
   "cell_type": "code",
   "execution_count": 30,
   "metadata": {},
   "outputs": [
    {
     "name": "stdout",
     "output_type": "stream",
     "text": [
      "Enter keywords to search for anime dialogues: dead\n",
      "[0. 0. 0. 0. 0. 0. 0. 0. 0. 0. 0. 0. 0. 0. 0. 0. 0. 0. 0. 0. 0. 0. 0. 0.\n",
      " 0. 0. 0. 0. 0. 0. 0. 0. 0. 0. 0. 0. 0. 0. 0. 0. 0. 0. 0. 0. 0. 0. 0. 0.\n",
      " 0. 0. 0. 0. 0. 0. 0. 0. 0. 0. 0. 0. 0. 0. 0. 0. 0. 0. 0. 0. 0. 0. 0. 0.\n",
      " 0. 0. 0. 0. 0. 0. 0. 0. 0. 0. 0. 0. 0. 0. 0. 0. 0. 0. 0. 0. 0. 0. 0. 0.\n",
      " 0. 0. 0. 0.]\n",
      "\n",
      "Top 3 Recommended Anime Dialogues for 'dead':\n",
      "- congratulation proceeding main tournament autumn election though cant come cheer work (Similarity Score: 0.00)\n",
      "- see could think trying best prelim hoping enjoy cooking (Similarity Score: 0.00)\n",
      "- envy cry like whenever want (Similarity Score: 0.00)\n"
     ]
    }
   ],
   "source": [
    "user_input = input(\"Enter keywords to search for anime dialogues: \")\n",
    "recommendations = search_anime_by_text(user_input, top_n=3)\n",
    "\n",
    "print(f\"\\nTop 3 Recommended Anime Dialogues for '{user_input}':\")\n",
    "for rec in recommendations:\n",
    "    print(f\"- {rec[0]} (Similarity Score: {rec[1]:.2f})\")"
   ]
  },
  {
   "cell_type": "markdown",
   "metadata": {},
   "source": [
    "### **Discussion & Conclusion**\n",
    "\n",
    "#### **Findings from Similarity Analysis:**\n",
    "- **Cosine similarity worked best for ranking text-based recommendations.**\n",
    "- **Euclidean distance was less effective**, as it is sensitive to absolute differences in word frequency.\n",
    "- **Jaccard similarity performed well for short queries but was not optimal for longer dialogues.**\n",
    "- **Similarity visualization provided insights into how dialogues are distributed in vector space.**\n",
    "\n",
    "#### **Future Enhancements:**\n",
    "- Experiment with deep learning-based similarity measures (BERT embeddings).\n",
    "- Improve Jaccard implementation by pre-selecting important words to enhance its effectiveness.\n",
    "- Develop a web-based interface for real-time recommendations."
   ]
  },
  {
   "cell_type": "markdown",
   "metadata": {},
   "source": [
    "## Step 5: Discussion & Conclusion\n",
    "\n",
    "### **Effectiveness of Clustering and Recommendations:**\n",
    "- **K-Means clustering successfully grouped similar anime dialogues**, allowing for meaningful categorization.\n",
    "- **Hierarchical clustering produced similar results**, showing clear separations, but was more computationally expensive.\n",
    "- **DBSCAN struggled with noise and required extensive parameter tuning**, making it less effective for high-dimensional text data.\n",
    "- **Cosine similarity was the most reliable similarity measure**, successfully ranking text-based recommendations with high accuracy.\n",
    "- **Jaccard similarity worked well for short queries but performed poorly for longer dialogues due to limited word overlap.**\n",
    "- **Euclidean distance was less effective due to its sensitivity to absolute differences in word frequency.**\n",
    "- **The user input functionality enabled real-time recommendations**, improving the system's interactivity.\n",
    "\n",
    "### **Limitations and Challenges:**\n",
    "- **Data Sparsity:** TF-IDF representations are sparse, meaning some anime dialogues may not have enough meaningful overlap for reliable recommendations.\n",
    "- **Cluster Imbalance:** Some clusters had significantly more dialogues than others, potentially skewing recommendations.\n",
    "- **Limited Context Awareness:** The recommendation system only considers textual similarity, lacking deeper context such as character relationships or anime genres.\n",
    "- **Scalability Issues:** Hierarchical clustering and DBSCAN become computationally expensive as dataset size increases.\n",
    "- **Fixed Vocabulary Issue:** TF-IDF does not capture word semantics, limiting understanding beyond simple frequency-based comparisons.\n",
    "\n",
    "### **Future Improvements:**\n",
    "1. **Deep Learning-Based Embeddings:**\n",
    "   - Implement advanced NLP techniques such as **Word2Vec, FastText, or BERT embeddings** to capture richer semantic meanings.\n",
    "   - These methods would allow the system to understand contextual meanings beyond exact word matching.\n",
    "\n",
    "2. **Hybrid Recommendation Approaches:**\n",
    "   - Combine **content-based filtering (text similarity)** with **collaborative filtering (user preferences, anime metadata)** to enhance recommendations.\n",
    "   - This would enable personalized recommendations based on user history and genre preferences.\n",
    "\n",
    "3. **Improving Clustering Efficiency:**\n",
    "   - Implement **HDBSCAN**, an extension of DBSCAN, which can automatically determine the optimal number of clusters.\n",
    "   - Fine-tune **K-Means hyperparameters** using the **Elbow Method** to find the most suitable cluster count.\n",
    "\n",
    "4. **Metadata Incorporation:**\n",
    "   - Integrate additional features such as **anime genre, character details, and episode number** to improve recommendation quality.\n",
    "   - This would provide better anime-specific contextual recommendations rather than solely relying on dialogue similarities.\n",
    "\n",
    "5. **Developing a Web-Based Interface:**\n",
    "   - Build a user-friendly **web or mobile app** to allow users to enter search queries and receive anime recommendations in real-time.\n",
    "   - Implement an API backend to **enable large-scale deployment** of the recommendation system.\n",
    "\n",
    "6. **Evaluation and User Testing:**\n",
    "   - Conduct **A/B testing** by evaluating user interactions with different similarity measures and clustering methods.\n",
    "   - Implement **precision, recall, and F1-score** to further refine the recommendation system’s accuracy.\n",
    "\n",
    "### **Final Thoughts:**\n",
    "The current system provides **a strong foundation for anime dialogue recommendations** using NLP and unsupervised learning techniques. While clustering and similarity-based retrieval have proven effective, **future enhancements leveraging deep learning, hybrid filtering, and additional metadata** will significantly improve the recommendation system’s **scalability, accuracy, and user experience.**"
   ]
  },
  {
   "cell_type": "code",
   "execution_count": null,
   "metadata": {},
   "outputs": [],
   "source": []
  }
 ],
 "metadata": {
  "kernelspec": {
   "display_name": "Python 3",
   "language": "python",
   "name": "python3"
  },
  "language_info": {
   "codemirror_mode": {
    "name": "ipython",
    "version": 3
   },
   "file_extension": ".py",
   "mimetype": "text/x-python",
   "name": "python",
   "nbconvert_exporter": "python",
   "pygments_lexer": "ipython3",
   "version": "3.7.6"
  }
 },
 "nbformat": 4,
 "nbformat_minor": 4
}
